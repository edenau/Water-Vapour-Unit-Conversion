{
 "cells": [
  {
   "cell_type": "markdown",
   "metadata": {},
   "source": [
    "Test accuracy of convert_h2o.py by comparing its result with convert_h2o.m \n",
    "\n",
    "code_standard = stage-6"
   ]
  },
  {
   "cell_type": "markdown",
   "metadata": {},
   "source": [
    "# py1.0 - STABLE - 13 June 2019 - tested by Eden Au"
   ]
  },
  {
   "cell_type": "markdown",
   "metadata": {},
   "source": [
    "# 1. Setup"
   ]
  },
  {
   "cell_type": "markdown",
   "metadata": {},
   "source": [
    "## 1.1 Initialization"
   ]
  },
  {
   "cell_type": "code",
   "execution_count": 1,
   "metadata": {
    "ExecuteTime": {
     "end_time": "2019-06-13T21:07:56.007685Z",
     "start_time": "2019-06-13T21:07:53.343044Z"
    }
   },
   "outputs": [
    {
     "name": "stdout",
     "output_type": "stream",
     "text": [
      "Packages imported.\n"
     ]
    }
   ],
   "source": [
    "import warnings\n",
    "warnings.filterwarnings('ignore')\n",
    "\n",
    "import os\n",
    "import numpy as np\n",
    "import xarray as xr\n",
    "print('Packages imported.')"
   ]
  },
  {
   "cell_type": "markdown",
   "metadata": {},
   "source": [
    "## 1.2 Data Import"
   ]
  },
  {
   "cell_type": "code",
   "execution_count": 2,
   "metadata": {
    "ExecuteTime": {
     "end_time": "2019-06-13T21:07:56.072502Z",
     "start_time": "2019-06-13T21:07:56.009516Z"
    }
   },
   "outputs": [
    {
     "data": {
      "text/plain": [
       "<xarray.Dataset>\n",
       "Dimensions:        (p: 37, time: 3993, z: 512)\n",
       "Coordinates:\n",
       "  * time           (time) datetime64[ns] 1997-10-02T22:30:00 ... 2010-08-25T11:30:00\n",
       "  * p              (p) float32 1000.0 975.0 950.0 925.0 ... 150.0 125.0 100.0\n",
       "  * z              (z) float32 15.0 60.0 105.0 150.0 ... 22920.0 22965.0 23010.0\n",
       "Data variables:\n",
       "    prec_sfc_next  (time) float32 dask.array<shape=(3993,), chunksize=(3993,)>\n",
       "    prec_sfc       (time) float32 dask.array<shape=(3993,), chunksize=(3993,)>\n",
       "    T_sfc          (time) float32 dask.array<shape=(3993,), chunksize=(3993,)>\n",
       "    rh_sfc         (time) float32 dask.array<shape=(3993,), chunksize=(3993,)>\n",
       "    u_sfc          (time) float32 dask.array<shape=(3993,), chunksize=(3993,)>\n",
       "    v_sfc          (time) float32 dask.array<shape=(3993,), chunksize=(3993,)>\n",
       "    p_sfc          (time) float32 dask.array<shape=(3993,), chunksize=(3993,)>\n",
       "    T_p            (time, p) float32 dask.array<shape=(3993, 37), chunksize=(3993, 37)>\n",
       "    rh_p           (time, p) float32 dask.array<shape=(3993, 37), chunksize=(3993, 37)>\n",
       "    u_p            (time, p) float32 dask.array<shape=(3993, 37), chunksize=(3993, 37)>\n",
       "    v_p            (time, p) float32 dask.array<shape=(3993, 37), chunksize=(3993, 37)>\n",
       "    T_z            (time, z) float32 dask.array<shape=(3993, 512), chunksize=(3993, 512)>\n",
       "    col_water      (time) float64 dask.array<shape=(3993,), chunksize=(3993,)>\n",
       "    CAPE           (time) float64 dask.array<shape=(3993,), chunksize=(3993,)>\n",
       "Attributes:\n",
       "    Conventions:             CF-1.6\n",
       "    title:                   ARM Best Estimate (ARMBE) Product, atmospheric p...\n",
       "    description:             ARM Best Estimate hourly averaged qc controlled ...\n",
       "    project:                 Atmospheric Radiation Measurements (ARM) Program...\n",
       "    location:                TWP, C1; lon = 147.4 E, lat = 2.1 S, alt = 4.0 m...\n",
       "    averaging_interval:      60 min. reported at the center of the interval\n",
       "    references:              http://science.arm.gov/wg/cpm/scm/best_estimate....\n",
       "    institution:             Lawrence Livermore National Laboratory, CA, USA\n",
       "    software:                IDL program, R.B.McCoy, LLNL, renata@llnl.gov\n",
       "    source:                  ARM VAPs: MET, sounding\n",
       "    source_met:              twpsmet60sC1.b1.1996*.cdf\n",
       "    source_sonde:            twp*sonde*C1.?1.1996*.cdf\n",
       "    site_id:                 twp\n",
       "    facility_id:             C1\n",
       "    platform_id:             armbeatm\n",
       "    datastream:              twparmbeatmC1.c1\n",
       "    location_description:    Tropical Western Pacific (TWP), Manus, Papua New...\n",
       "    data_level:              c1\n",
       "    dod_version:             armbeatm-c1-1.4\n",
       "    process_version:         armbeatm v1.4\n",
       "    command_line:            armbeatm_correct_soundings_v1.4\n",
       "    input_datastreams:       twparmbeatmC1.c1:1.3:20100101\n",
       "    postprocessing_date:     Tue Feb  4 16:57:22 2014 UTC\n",
       "    postprocessing_commnd:   armbeatm_correct_soundings_v1.4\n",
       "    postprocessing_svn_tag:  9650\n",
       "    doi:                     10.5439/1111536\n",
       "    doi_url:                 http://dx.doi.org/10.5439/1111536\n",
       "    suggested_citation:      see http://www.arm.gov/data/armbe\n",
       "    history:                 created by user mccoy20 on machine dream.llnl.go...\n",
       "    ADD_METADATA:            ----------everything below is added during data ...\n",
       "    clean_stage:             5 or before\n",
       "    path_from_main:          data/clean/stage-6/arm_prec_sum_1_clean.cdf\n",
       "    cleaned:                 added metadata, added 1-hour shift prec_sfc, dropna\n",
       "    clean_time:              unknown"
      ]
     },
     "execution_count": 2,
     "metadata": {},
     "output_type": "execute_result"
    }
   ],
   "source": [
    "from utils_import_export import get_path_from_main, get_DS\n",
    "\n",
    "# Get clean ARM data\n",
    "path = get_path_from_main(suffix='data/clean/stage-6/arm_prec_sum_1_clean.cdf')\n",
    "DS = get_DS(path)\n",
    "DS"
   ]
  },
  {
   "cell_type": "code",
   "execution_count": 3,
   "metadata": {
    "ExecuteTime": {
     "end_time": "2019-06-13T21:07:56.125311Z",
     "start_time": "2019-06-13T21:07:56.074552Z"
    }
   },
   "outputs": [],
   "source": [
    "# Pick the first instance\n",
    "t = DS.sel(time = DS.time[0]).T_p.values\n",
    "p = DS.sel(time = DS.time[0]).p.values\n",
    "rh = DS.sel(time = DS.time[0]).rh_p.values"
   ]
  },
  {
   "cell_type": "code",
   "execution_count": 4,
   "metadata": {
    "ExecuteTime": {
     "end_time": "2019-06-13T21:07:56.131355Z",
     "start_time": "2019-06-13T21:07:56.127303Z"
    }
   },
   "outputs": [
    {
     "data": {
      "text/plain": [
       "array([71.63636 , 81.333336, 90.15    , 88.9     , 79.954544, 71.708336,\n",
       "       71.4     , 43.258064, 59.058823, 65.55556 , 66.948715, 67.19512 ,\n",
       "       67.414635, 64.82927 , 70.28261 , 77.333336, 79.75    , 69.520836,\n",
       "       40.372547, 30.377777, 28.903847, 11.037037, 10.786885, 15.770492,\n",
       "       21.171875, 23.050848, 30.6     , 35.815384, 46.472973, 53.635136,\n",
       "       43.390804, 31.857143, 18.258427, 15.882353, 19.841667, 22.721428,\n",
       "       23.94706 ], dtype=float32)"
      ]
     },
     "execution_count": 4,
     "metadata": {},
     "output_type": "execute_result"
    }
   ],
   "source": [
    "rh"
   ]
  },
  {
   "cell_type": "markdown",
   "metadata": {},
   "source": [
    "# 2. Testing"
   ]
  },
  {
   "cell_type": "code",
   "execution_count": 5,
   "metadata": {
    "ExecuteTime": {
     "end_time": "2019-06-13T21:07:56.179915Z",
     "start_time": "2019-06-13T21:07:56.132795Z"
    }
   },
   "outputs": [],
   "source": [
    "from convert_h2o import convert_h2o"
   ]
  },
  {
   "cell_type": "markdown",
   "metadata": {},
   "source": [
    "## 2.1 Errors"
   ]
  },
  {
   "cell_type": "code",
   "execution_count": 6,
   "metadata": {
    "ExecuteTime": {
     "end_time": "2019-06-13T21:07:56.389759Z",
     "start_time": "2019-06-13T21:07:56.181851Z"
    }
   },
   "outputs": [
    {
     "ename": "ValueError",
     "evalue": "Character flag for input unit is not defined.\nAvailable choices are:\n'M' - Mass Mixing Ratio (g/Kg),\n'V' - Volume Mixing Ratio (ppv),\n'H' - Relative Umidity (%),\n'S' - Specific Humidity,\n'D' - Dew Point (K),\n'P' - Partial Pressure (hPa),\n'N' - Number Density (cm-3), and\n'R' - Mass Density (kg/m3).",
     "output_type": "error",
     "traceback": [
      "\u001b[0;31m---------------------------------------------------------------------------\u001b[0m",
      "\u001b[0;31mKeyError\u001b[0m                                  Traceback (most recent call last)",
      "\u001b[0;32m~/Documents/GitHub/Machine-Learning-Climate-Parameterization/main/stage-6/code/convert_h2o.py\u001b[0m in \u001b[0;36mconvert_h2o\u001b[0;34m(p, t, winp, unitinp, unitout)\u001b[0m\n\u001b[1;32m    165\u001b[0m     \u001b[0;32mtry\u001b[0m\u001b[0;34m:\u001b[0m\u001b[0;34m\u001b[0m\u001b[0;34m\u001b[0m\u001b[0m\n\u001b[0;32m--> 166\u001b[0;31m         \u001b[0mdennum\u001b[0m \u001b[0;34m=\u001b[0m \u001b[0mswitch_to_dennum\u001b[0m\u001b[0;34m[\u001b[0m\u001b[0munitinp\u001b[0m\u001b[0;34m]\u001b[0m\u001b[0;34m(\u001b[0m\u001b[0mp\u001b[0m\u001b[0;34m,\u001b[0m \u001b[0mt\u001b[0m\u001b[0;34m,\u001b[0m \u001b[0mwinp\u001b[0m\u001b[0;34m,\u001b[0m \u001b[0mconst\u001b[0m\u001b[0;34m)\u001b[0m\u001b[0;34m\u001b[0m\u001b[0;34m\u001b[0m\u001b[0m\n\u001b[0m\u001b[1;32m    167\u001b[0m     \u001b[0;32mexcept\u001b[0m\u001b[0;34m:\u001b[0m\u001b[0;34m\u001b[0m\u001b[0;34m\u001b[0m\u001b[0m\n",
      "\u001b[0;31mKeyError\u001b[0m: 'wrong_input'",
      "\nDuring handling of the above exception, another exception occurred:\n",
      "\u001b[0;31mValueError\u001b[0m                                Traceback (most recent call last)",
      "\u001b[0;32m<ipython-input-6-72ffc19babab>\u001b[0m in \u001b[0;36m<module>\u001b[0;34m\u001b[0m\n\u001b[1;32m      1\u001b[0m \u001b[0;31m# Wrong input flag okay\u001b[0m\u001b[0;34m\u001b[0m\u001b[0;34m\u001b[0m\u001b[0;34m\u001b[0m\u001b[0m\n\u001b[0;32m----> 2\u001b[0;31m \u001b[0mconvert_h2o\u001b[0m\u001b[0;34m(\u001b[0m\u001b[0mp\u001b[0m\u001b[0;34m,\u001b[0m\u001b[0mt\u001b[0m\u001b[0;34m,\u001b[0m\u001b[0mrh\u001b[0m\u001b[0;34m,\u001b[0m\u001b[0;34m'wrong_input'\u001b[0m\u001b[0;34m,\u001b[0m\u001b[0;34m'N'\u001b[0m\u001b[0;34m)\u001b[0m\u001b[0;34m\u001b[0m\u001b[0;34m\u001b[0m\u001b[0m\n\u001b[0m",
      "\u001b[0;32m~/Documents/GitHub/Machine-Learning-Climate-Parameterization/main/stage-6/code/convert_h2o.py\u001b[0m in \u001b[0;36mconvert_h2o\u001b[0;34m(p, t, winp, unitinp, unitout)\u001b[0m\n\u001b[1;32m    166\u001b[0m         \u001b[0mdennum\u001b[0m \u001b[0;34m=\u001b[0m \u001b[0mswitch_to_dennum\u001b[0m\u001b[0;34m[\u001b[0m\u001b[0munitinp\u001b[0m\u001b[0;34m]\u001b[0m\u001b[0;34m(\u001b[0m\u001b[0mp\u001b[0m\u001b[0;34m,\u001b[0m \u001b[0mt\u001b[0m\u001b[0;34m,\u001b[0m \u001b[0mwinp\u001b[0m\u001b[0;34m,\u001b[0m \u001b[0mconst\u001b[0m\u001b[0;34m)\u001b[0m\u001b[0;34m\u001b[0m\u001b[0;34m\u001b[0m\u001b[0m\n\u001b[1;32m    167\u001b[0m     \u001b[0;32mexcept\u001b[0m\u001b[0;34m:\u001b[0m\u001b[0;34m\u001b[0m\u001b[0;34m\u001b[0m\u001b[0m\n\u001b[0;32m--> 168\u001b[0;31m         \u001b[0;32mraise\u001b[0m \u001b[0mValueError\u001b[0m\u001b[0;34m(\u001b[0m\u001b[0munitinp_error\u001b[0m\u001b[0;34m)\u001b[0m\u001b[0;34m\u001b[0m\u001b[0;34m\u001b[0m\u001b[0m\n\u001b[0m\u001b[1;32m    169\u001b[0m \u001b[0;34m\u001b[0m\u001b[0m\n\u001b[1;32m    170\u001b[0m \u001b[0;34m\u001b[0m\u001b[0m\n",
      "\u001b[0;31mValueError\u001b[0m: Character flag for input unit is not defined.\nAvailable choices are:\n'M' - Mass Mixing Ratio (g/Kg),\n'V' - Volume Mixing Ratio (ppv),\n'H' - Relative Umidity (%),\n'S' - Specific Humidity,\n'D' - Dew Point (K),\n'P' - Partial Pressure (hPa),\n'N' - Number Density (cm-3), and\n'R' - Mass Density (kg/m3)."
     ]
    }
   ],
   "source": [
    "# Wrong input flag okay\n",
    "convert_h2o(p,t,rh,'wrong_input','N')"
   ]
  },
  {
   "cell_type": "code",
   "execution_count": 7,
   "metadata": {
    "ExecuteTime": {
     "end_time": "2019-06-13T21:08:08.097868Z",
     "start_time": "2019-06-13T21:08:08.087767Z"
    }
   },
   "outputs": [
    {
     "ename": "ValueError",
     "evalue": "Character flag for output unit is not defined.\nAvailable choices are:\n'M' - Mass Mixing Ratio (g/Kg),\n'V' - Volume Mixing Ratio (ppv),\n'H' - Relative Umidity (%),\n'S' - Specific Humidity,\n'D' - Dew Point (K),\n'P' - Partial Pressure (hPa),\n'N' - Number Density (cm-3),\n'R' - Mass Density (kg/m3), and\n'C' - Colummnar content (mm).",
     "output_type": "error",
     "traceback": [
      "\u001b[0;31m---------------------------------------------------------------------------\u001b[0m",
      "\u001b[0;31mKeyError\u001b[0m                                  Traceback (most recent call last)",
      "\u001b[0;32m~/Documents/GitHub/Machine-Learning-Climate-Parameterization/main/stage-6/code/convert_h2o.py\u001b[0m in \u001b[0;36mconvert_h2o\u001b[0;34m(p, t, winp, unitinp, unitout)\u001b[0m\n\u001b[1;32m    184\u001b[0m     \u001b[0;32mtry\u001b[0m\u001b[0;34m:\u001b[0m\u001b[0;34m\u001b[0m\u001b[0;34m\u001b[0m\u001b[0m\n\u001b[0;32m--> 185\u001b[0;31m         \u001b[0mwout\u001b[0m \u001b[0;34m=\u001b[0m \u001b[0mswitch_from_dennum\u001b[0m\u001b[0;34m[\u001b[0m\u001b[0munitout\u001b[0m\u001b[0;34m]\u001b[0m\u001b[0;34m(\u001b[0m\u001b[0mp\u001b[0m\u001b[0;34m,\u001b[0m \u001b[0mt\u001b[0m\u001b[0;34m,\u001b[0m \u001b[0mdennum\u001b[0m\u001b[0;34m,\u001b[0m \u001b[0mconst\u001b[0m\u001b[0;34m)\u001b[0m\u001b[0;34m\u001b[0m\u001b[0;34m\u001b[0m\u001b[0m\n\u001b[0m\u001b[1;32m    186\u001b[0m     \u001b[0;32mexcept\u001b[0m\u001b[0;34m:\u001b[0m\u001b[0;34m\u001b[0m\u001b[0;34m\u001b[0m\u001b[0m\n",
      "\u001b[0;31mKeyError\u001b[0m: 'wrong_output'",
      "\nDuring handling of the above exception, another exception occurred:\n",
      "\u001b[0;31mValueError\u001b[0m                                Traceback (most recent call last)",
      "\u001b[0;32m<ipython-input-7-a8f0653889e9>\u001b[0m in \u001b[0;36m<module>\u001b[0;34m\u001b[0m\n\u001b[1;32m      1\u001b[0m \u001b[0;31m# Wrong output flag okay\u001b[0m\u001b[0;34m\u001b[0m\u001b[0;34m\u001b[0m\u001b[0;34m\u001b[0m\u001b[0m\n\u001b[0;32m----> 2\u001b[0;31m \u001b[0mconvert_h2o\u001b[0m\u001b[0;34m(\u001b[0m\u001b[0mp\u001b[0m\u001b[0;34m,\u001b[0m\u001b[0mt\u001b[0m\u001b[0;34m,\u001b[0m\u001b[0mrh\u001b[0m\u001b[0;34m,\u001b[0m\u001b[0;34m'N'\u001b[0m\u001b[0;34m,\u001b[0m\u001b[0;34m'wrong_output'\u001b[0m\u001b[0;34m)\u001b[0m\u001b[0;34m\u001b[0m\u001b[0;34m\u001b[0m\u001b[0m\n\u001b[0m",
      "\u001b[0;32m~/Documents/GitHub/Machine-Learning-Climate-Parameterization/main/stage-6/code/convert_h2o.py\u001b[0m in \u001b[0;36mconvert_h2o\u001b[0;34m(p, t, winp, unitinp, unitout)\u001b[0m\n\u001b[1;32m    185\u001b[0m         \u001b[0mwout\u001b[0m \u001b[0;34m=\u001b[0m \u001b[0mswitch_from_dennum\u001b[0m\u001b[0;34m[\u001b[0m\u001b[0munitout\u001b[0m\u001b[0;34m]\u001b[0m\u001b[0;34m(\u001b[0m\u001b[0mp\u001b[0m\u001b[0;34m,\u001b[0m \u001b[0mt\u001b[0m\u001b[0;34m,\u001b[0m \u001b[0mdennum\u001b[0m\u001b[0;34m,\u001b[0m \u001b[0mconst\u001b[0m\u001b[0;34m)\u001b[0m\u001b[0;34m\u001b[0m\u001b[0;34m\u001b[0m\u001b[0m\n\u001b[1;32m    186\u001b[0m     \u001b[0;32mexcept\u001b[0m\u001b[0;34m:\u001b[0m\u001b[0;34m\u001b[0m\u001b[0;34m\u001b[0m\u001b[0m\n\u001b[0;32m--> 187\u001b[0;31m         \u001b[0;32mraise\u001b[0m \u001b[0mValueError\u001b[0m\u001b[0;34m(\u001b[0m\u001b[0munitout_error\u001b[0m\u001b[0;34m)\u001b[0m\u001b[0;34m\u001b[0m\u001b[0;34m\u001b[0m\u001b[0m\n\u001b[0m\u001b[1;32m    188\u001b[0m \u001b[0;34m\u001b[0m\u001b[0m\n\u001b[1;32m    189\u001b[0m     \u001b[0;32mreturn\u001b[0m \u001b[0mwout\u001b[0m\u001b[0;34m\u001b[0m\u001b[0;34m\u001b[0m\u001b[0m\n",
      "\u001b[0;31mValueError\u001b[0m: Character flag for output unit is not defined.\nAvailable choices are:\n'M' - Mass Mixing Ratio (g/Kg),\n'V' - Volume Mixing Ratio (ppv),\n'H' - Relative Umidity (%),\n'S' - Specific Humidity,\n'D' - Dew Point (K),\n'P' - Partial Pressure (hPa),\n'N' - Number Density (cm-3),\n'R' - Mass Density (kg/m3), and\n'C' - Colummnar content (mm)."
     ]
    }
   ],
   "source": [
    "# Wrong output flag okay\n",
    "convert_h2o(p,t,rh,'N','wrong_output')"
   ]
  },
  {
   "cell_type": "code",
   "execution_count": 8,
   "metadata": {
    "ExecuteTime": {
     "end_time": "2019-06-13T21:08:08.705640Z",
     "start_time": "2019-06-13T21:08:08.696187Z"
    }
   },
   "outputs": [
    {
     "ename": "ValueError",
     "evalue": "Input vectors have inconsistent dimensions: (74,), (37,), and (37,) respectively.",
     "output_type": "error",
     "traceback": [
      "\u001b[0;31m---------------------------------------------------------------------------\u001b[0m",
      "\u001b[0;31mValueError\u001b[0m                                Traceback (most recent call last)",
      "\u001b[0;32m<ipython-input-8-0ae3f58c2570>\u001b[0m in \u001b[0;36m<module>\u001b[0;34m\u001b[0m\n\u001b[1;32m      1\u001b[0m \u001b[0;31m# Inconsistent input dim okay\u001b[0m\u001b[0;34m\u001b[0m\u001b[0;34m\u001b[0m\u001b[0;34m\u001b[0m\u001b[0m\n\u001b[0;32m----> 2\u001b[0;31m \u001b[0mconvert_h2o\u001b[0m\u001b[0;34m(\u001b[0m\u001b[0mnp\u001b[0m\u001b[0;34m.\u001b[0m\u001b[0mconcatenate\u001b[0m\u001b[0;34m(\u001b[0m\u001b[0;34m(\u001b[0m\u001b[0mp\u001b[0m\u001b[0;34m,\u001b[0m\u001b[0mp\u001b[0m\u001b[0;34m)\u001b[0m\u001b[0;34m)\u001b[0m\u001b[0;34m,\u001b[0m\u001b[0mt\u001b[0m\u001b[0;34m,\u001b[0m\u001b[0mrh\u001b[0m\u001b[0;34m,\u001b[0m\u001b[0;34m'N'\u001b[0m\u001b[0;34m,\u001b[0m\u001b[0;34m'N'\u001b[0m\u001b[0;34m)\u001b[0m\u001b[0;34m\u001b[0m\u001b[0;34m\u001b[0m\u001b[0m\n\u001b[0m",
      "\u001b[0;32m~/Documents/GitHub/Machine-Learning-Climate-Parameterization/main/stage-6/code/convert_h2o.py\u001b[0m in \u001b[0;36mconvert_h2o\u001b[0;34m(p, t, winp, unitinp, unitout)\u001b[0m\n\u001b[1;32m    119\u001b[0m     \u001b[0;31m# Sanity check for consistent dimensions\u001b[0m\u001b[0;34m\u001b[0m\u001b[0;34m\u001b[0m\u001b[0;34m\u001b[0m\u001b[0m\n\u001b[1;32m    120\u001b[0m     \u001b[0;32mif\u001b[0m \u001b[0;32mnot\u001b[0m \u001b[0;34m(\u001b[0m\u001b[0mp\u001b[0m\u001b[0;34m.\u001b[0m\u001b[0mshape\u001b[0m \u001b[0;34m==\u001b[0m \u001b[0mt\u001b[0m\u001b[0;34m.\u001b[0m\u001b[0mshape\u001b[0m \u001b[0;34m==\u001b[0m \u001b[0mwinp\u001b[0m\u001b[0;34m.\u001b[0m\u001b[0mshape\u001b[0m\u001b[0;34m)\u001b[0m\u001b[0;34m:\u001b[0m\u001b[0;34m\u001b[0m\u001b[0;34m\u001b[0m\u001b[0m\n\u001b[0;32m--> 121\u001b[0;31m         \u001b[0;32mraise\u001b[0m \u001b[0mValueError\u001b[0m\u001b[0;34m(\u001b[0m\u001b[0mdim_error\u001b[0m\u001b[0;34m(\u001b[0m\u001b[0mp\u001b[0m\u001b[0;34m,\u001b[0m\u001b[0mt\u001b[0m\u001b[0;34m,\u001b[0m\u001b[0mwinp\u001b[0m\u001b[0;34m)\u001b[0m\u001b[0;34m)\u001b[0m\u001b[0;34m\u001b[0m\u001b[0;34m\u001b[0m\u001b[0m\n\u001b[0m\u001b[1;32m    122\u001b[0m     \u001b[0;31m# Constants\u001b[0m\u001b[0;34m\u001b[0m\u001b[0;34m\u001b[0m\u001b[0;34m\u001b[0m\u001b[0m\n\u001b[1;32m    123\u001b[0m     \u001b[0mavogad\u001b[0m\u001b[0;34m=\u001b[0m\u001b[0;36m6.02214199e+23\u001b[0m    \u001b[0;31m# Avogadro Number\u001b[0m\u001b[0;34m\u001b[0m\u001b[0;34m\u001b[0m\u001b[0m\n",
      "\u001b[0;31mValueError\u001b[0m: Input vectors have inconsistent dimensions: (74,), (37,), and (37,) respectively."
     ]
    }
   ],
   "source": [
    "# Inconsistent input dim okay\n",
    "convert_h2o(np.concatenate((p,p)),t,rh,'N','N')"
   ]
  },
  {
   "cell_type": "markdown",
   "metadata": {},
   "source": [
    "## 2.2 'H' - Relative Humidity & 'N' - Number Density"
   ]
  },
  {
   "cell_type": "markdown",
   "metadata": {},
   "source": [
    "Checks were conducted by comparing the outputs between MATLAB and Python scripts "
   ]
  },
  {
   "cell_type": "markdown",
   "metadata": {},
   "source": [
    "We only have relative humidity ('H') data in hand, so let's convert it to number density ('N') first"
   ]
  },
  {
   "cell_type": "code",
   "execution_count": 9,
   "metadata": {
    "ExecuteTime": {
     "end_time": "2019-06-13T21:08:10.667795Z",
     "start_time": "2019-06-13T21:08:10.663034Z"
    }
   },
   "outputs": [
    {
     "data": {
      "text/plain": [
       "array([6.0478720e+17, 6.0584657e+17, 5.9297281e+17, 5.2649908e+17,\n",
       "       4.3832667e+17, 3.7003562e+17, 3.4968778e+17, 2.1637391e+17,\n",
       "       2.6827914e+17, 2.6081539e+17, 2.4363858e+17, 2.2311743e+17,\n",
       "       2.0023924e+17, 1.7501701e+17, 1.6331428e+17, 1.5123107e+17,\n",
       "       1.3447809e+17, 1.0359943e+17, 5.7276559e+16, 3.8790624e+16,\n",
       "       3.1767554e+16, 1.0742791e+16, 9.0039453e+15, 1.0876181e+16,\n",
       "       1.0824053e+16, 8.8774864e+15, 8.1153504e+15, 6.4539883e+15,\n",
       "       5.3950174e+15, 3.8836498e+15, 1.8282386e+15, 8.3120193e+14,\n",
       "       2.8248077e+14, 1.0528696e+14, 4.6968659e+13, 2.0624601e+13,\n",
       "       1.4024043e+13], dtype=float32)"
      ]
     },
     "execution_count": 9,
     "metadata": {},
     "output_type": "execute_result"
    }
   ],
   "source": [
    "# H2N okay\n",
    "dennum = convert_h2o(p,t,rh,'H','N')\n",
    "dennum"
   ]
  },
  {
   "cell_type": "markdown",
   "metadata": {},
   "source": [
    "Test number density ('N') to itself"
   ]
  },
  {
   "cell_type": "code",
   "execution_count": 10,
   "metadata": {
    "ExecuteTime": {
     "end_time": "2019-06-13T21:08:11.440465Z",
     "start_time": "2019-06-13T21:08:11.436051Z"
    }
   },
   "outputs": [
    {
     "data": {
      "text/plain": [
       "array([6.0478720e+17, 6.0584657e+17, 5.9297281e+17, 5.2649908e+17,\n",
       "       4.3832667e+17, 3.7003562e+17, 3.4968778e+17, 2.1637391e+17,\n",
       "       2.6827914e+17, 2.6081539e+17, 2.4363858e+17, 2.2311743e+17,\n",
       "       2.0023924e+17, 1.7501701e+17, 1.6331428e+17, 1.5123107e+17,\n",
       "       1.3447809e+17, 1.0359943e+17, 5.7276559e+16, 3.8790624e+16,\n",
       "       3.1767554e+16, 1.0742791e+16, 9.0039453e+15, 1.0876181e+16,\n",
       "       1.0824053e+16, 8.8774864e+15, 8.1153504e+15, 6.4539883e+15,\n",
       "       5.3950174e+15, 3.8836498e+15, 1.8282386e+15, 8.3120193e+14,\n",
       "       2.8248077e+14, 1.0528696e+14, 4.6968659e+13, 2.0624601e+13,\n",
       "       1.4024043e+13], dtype=float32)"
      ]
     },
     "execution_count": 10,
     "metadata": {},
     "output_type": "execute_result"
    }
   ],
   "source": [
    "# N2N okay\n",
    "convert_h2o(p,t,dennum,'N','N')"
   ]
  },
  {
   "cell_type": "code",
   "execution_count": 11,
   "metadata": {
    "ExecuteTime": {
     "end_time": "2019-06-13T21:08:11.889678Z",
     "start_time": "2019-06-13T21:08:11.885141Z"
    }
   },
   "outputs": [
    {
     "data": {
      "text/plain": [
       "5.2452087e-05"
      ]
     },
     "execution_count": 11,
     "metadata": {},
     "output_type": "execute_result"
    }
   ],
   "source": [
    "# N2H okay\n",
    "np.abs(convert_h2o(p,t,dennum,'N','H') - rh).sum()"
   ]
  },
  {
   "cell_type": "markdown",
   "metadata": {},
   "source": [
    "## 2.3 'C' - Columnar Content (one-way)"
   ]
  },
  {
   "cell_type": "markdown",
   "metadata": {},
   "source": [
    "Test number density ('N') to columnar content ('C'). This is one-way street as columnar content is a scalar and cannot convert to a vertical profile."
   ]
  },
  {
   "cell_type": "code",
   "execution_count": 12,
   "metadata": {
    "ExecuteTime": {
     "end_time": "2019-06-13T21:08:13.671651Z",
     "start_time": "2019-06-13T21:08:13.667890Z"
    }
   },
   "outputs": [
    {
     "data": {
      "text/plain": [
       "44.06498402343615"
      ]
     },
     "execution_count": 12,
     "metadata": {},
     "output_type": "execute_result"
    }
   ],
   "source": [
    "# N2C okay\n",
    "convert_h2o(p,t,dennum,'N','C')"
   ]
  },
  {
   "cell_type": "markdown",
   "metadata": {},
   "source": [
    "## 2.4 Other Variables"
   ]
  },
  {
   "cell_type": "markdown",
   "metadata": {},
   "source": [
    "Convert ('N') to some unit, then convert it back to ('N'), and cross-check it with the MATLAB version"
   ]
  },
  {
   "cell_type": "markdown",
   "metadata": {},
   "source": [
    "### 2.4.1 'M' Mass Mixing Ratio"
   ]
  },
  {
   "cell_type": "code",
   "execution_count": 14,
   "metadata": {
    "ExecuteTime": {
     "end_time": "2019-06-13T21:08:30.019297Z",
     "start_time": "2019-06-13T21:08:30.014689Z"
    }
   },
   "outputs": [
    {
     "data": {
      "text/plain": [
       "array([1.5969711e+01, 1.6294048e+01, 1.6246408e+01, 1.4688289e+01,\n",
       "       1.2468166e+01, 1.0759466e+01, 1.0429971e+01, 6.6171818e+00,\n",
       "       8.4386845e+00, 8.4044523e+00, 8.0676184e+00, 7.5980215e+00,\n",
       "       7.0122685e+00, 6.3155499e+00, 6.0674763e+00, 5.7864227e+00,\n",
       "       5.3134723e+00, 4.2361946e+00, 2.4351444e+00, 1.7162538e+00,\n",
       "       1.4637522e+00, 5.1701277e-01, 4.5378563e-01, 5.7493985e-01,\n",
       "       5.9900719e-01, 5.1678991e-01, 4.9722856e-01, 4.1820747e-01,\n",
       "       3.7120551e-01, 2.8545037e-01, 1.4438625e-01, 7.1487047e-02,\n",
       "       2.6756154e-02, 1.1025394e-02, 5.5220397e-03, 2.8124100e-03,\n",
       "       2.3547232e-03], dtype=float32)"
      ]
     },
     "execution_count": 14,
     "metadata": {},
     "output_type": "execute_result"
    }
   ],
   "source": [
    "# N2M okay\n",
    "mmr = convert_h2o(p,t,dennum,'N','M')\n",
    "mmr"
   ]
  },
  {
   "cell_type": "code",
   "execution_count": 22,
   "metadata": {
    "ExecuteTime": {
     "end_time": "2019-06-13T21:16:57.283727Z",
     "start_time": "2019-06-13T21:16:57.279053Z"
    }
   },
   "outputs": [
    {
     "data": {
      "text/plain": [
       "array([6.0478720e+17, 6.0584657e+17, 5.9297281e+17, 5.2649908e+17,\n",
       "       4.3832667e+17, 3.7003569e+17, 3.4968778e+17, 2.1637389e+17,\n",
       "       2.6827912e+17, 2.6081538e+17, 2.4363860e+17, 2.2311742e+17,\n",
       "       2.0023926e+17, 1.7501701e+17, 1.6331426e+17, 1.5123109e+17,\n",
       "       1.3447809e+17, 1.0359942e+17, 5.7276559e+16, 3.8790624e+16,\n",
       "       3.1767554e+16, 1.0742791e+16, 9.0039453e+15, 1.0876181e+16,\n",
       "       1.0824053e+16, 8.8774869e+15, 8.1153504e+15, 6.4539883e+15,\n",
       "       5.3950169e+15, 3.8836498e+15, 1.8282389e+15, 8.3120187e+14,\n",
       "       2.8248077e+14, 1.0528696e+14, 4.6968659e+13, 2.0624599e+13,\n",
       "       1.4024043e+13], dtype=float32)"
      ]
     },
     "execution_count": 22,
     "metadata": {},
     "output_type": "execute_result"
    }
   ],
   "source": [
    "# M2N okay\n",
    "convert_h2o(p,t,mmr,'M','N')"
   ]
  },
  {
   "cell_type": "code",
   "execution_count": null,
   "metadata": {},
   "outputs": [],
   "source": []
  }
 ],
 "metadata": {
  "kernelspec": {
   "display_name": "Python 3",
   "language": "python",
   "name": "python3"
  },
  "language_info": {
   "codemirror_mode": {
    "name": "ipython",
    "version": 3
   },
   "file_extension": ".py",
   "mimetype": "text/x-python",
   "name": "python",
   "nbconvert_exporter": "python",
   "pygments_lexer": "ipython3",
   "version": "3.7.3"
  },
  "varInspector": {
   "cols": {
    "lenName": 16,
    "lenType": 16,
    "lenVar": 40
   },
   "kernels_config": {
    "python": {
     "delete_cmd_postfix": "",
     "delete_cmd_prefix": "del ",
     "library": "var_list.py",
     "varRefreshCmd": "print(var_dic_list())"
    },
    "r": {
     "delete_cmd_postfix": ") ",
     "delete_cmd_prefix": "rm(",
     "library": "var_list.r",
     "varRefreshCmd": "cat(var_dic_list()) "
    }
   },
   "types_to_exclude": [
    "module",
    "function",
    "builtin_function_or_method",
    "instance",
    "_Feature"
   ],
   "window_display": false
  }
 },
 "nbformat": 4,
 "nbformat_minor": 2
}
